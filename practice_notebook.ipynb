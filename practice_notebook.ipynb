{
 "cells": [
  {
   "cell_type": "code",
   "execution_count": 1,
   "id": "a12f57e7",
   "metadata": {},
   "outputs": [],
   "source": [
    "#This notebook is created for practice"
   ]
  },
  {
   "cell_type": "code",
   "execution_count": 2,
   "id": "9542acb6",
   "metadata": {},
   "outputs": [],
   "source": [
    "import socket"
   ]
  },
  {
   "cell_type": "code",
   "execution_count": 3,
   "id": "348306b9",
   "metadata": {},
   "outputs": [],
   "source": [
    "#https://realpython.com/python-sockets/"
   ]
  },
  {
   "cell_type": "code",
   "execution_count": null,
   "id": "c51a11a2",
   "metadata": {},
   "outputs": [],
   "source": []
  }
 ],
 "metadata": {
  "kernelspec": {
   "display_name": "Python 3 (ipykernel)",
   "language": "python",
   "name": "python3"
  },
  "language_info": {
   "codemirror_mode": {
    "name": "ipython",
    "version": 3
   },
   "file_extension": ".py",
   "mimetype": "text/x-python",
   "name": "python",
   "nbconvert_exporter": "python",
   "pygments_lexer": "ipython3",
   "version": "3.9.2"
  }
 },
 "nbformat": 4,
 "nbformat_minor": 5
}
